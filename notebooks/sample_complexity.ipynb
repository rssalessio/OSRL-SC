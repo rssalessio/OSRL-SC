{
 "cells": [
  {
   "cell_type": "markdown",
   "metadata": {},
   "source": [
    "# Sample Complexity"
   ]
  },
  {
   "cell_type": "markdown",
   "metadata": {},
   "source": [
    "## Initialization"
   ]
  },
  {
   "cell_type": "code",
   "execution_count": 1,
   "metadata": {},
   "outputs": [],
   "source": [
    "## Load libraries (Cython, Numpy and Pyplot)\n",
    "%load_ext Cython\n",
    "import numpy as np\n",
    "import sys\n",
    "import matplotlib.pyplot as plt\n",
    "sys.path.append(sys.path[0] + \"/..\")\n",
    "\n",
    "from src.bandits import TLMMAB\n",
    "from src.strategies_arm_identification import OSRLSC, MTTrackAndStopD\n",
    "from src.utils import RewardBernoulliDistribution\n",
    "np.random.seed(1)"
   ]
  },
  {
   "cell_type": "markdown",
   "metadata": {},
   "source": [
    "## Setup algorithms\n",
    "Specify means and parameters"
   ]
  },
  {
   "cell_type": "code",
   "execution_count": 6,
   "metadata": {},
   "outputs": [],
   "source": [
    "# Set up tasks (X=2, G=3, H=2). Optimal g is g0\n",
    "means = np.array([\n",
    "    [   # Task 1\n",
    "        [0.5, 0.45],   #g0\n",
    "        [0.35, 0.33],  #g1\n",
    "        [0.1, 0.05]    #g2\n",
    "    ],\n",
    "    [   # Task 2\n",
    "        [0.5, 0.45],   #g0\n",
    "        [0.1, 0.05],   #g1\n",
    "        [0.35, 0.33]   #g2\n",
    "    ]\n",
    "])\n",
    "\n",
    "# Risk and number of simulations\n",
    "risk = 0.1\n",
    "nsims = 1\n",
    "\n",
    "# Strategies set up\n",
    "strategies = [(OSRLSC, \"OSRL-SC\", {\"delta_g\": risk}),\n",
    "              (MTTrackAndStopD, \"Track and Stop\", {\"delta\": risk})]"
   ]
  },
  {
   "cell_type": "markdown",
   "metadata": {},
   "source": [
    "## Simulations"
   ]
  },
  {
   "cell_type": "code",
   "execution_count": 7,
   "metadata": {},
   "outputs": [],
   "source": [
    "# Data\n",
    "data = {strategy[1]: []  for strategy in strategies}\n",
    "\n",
    "for n in range(nsims):\n",
    "    for strategy in strategies:\n",
    "        bandit_model = TLMMAB(means=means,\n",
    "                              optimal_g=0,\n",
    "                              strategy=strategy[0],\n",
    "                              reward=RewardBernoulliDistribution,\n",
    "                              offline=True,\n",
    "                              **strategy[2])\n",
    "        result = bandit_model.simulate()\n",
    "        data[strategy[1]].append(result)"
   ]
  },
  {
   "cell_type": "markdown",
   "metadata": {},
   "source": [
    "## Results"
   ]
  },
  {
   "cell_type": "code",
   "execution_count": 16,
   "metadata": {},
   "outputs": [
    {
     "name": "stdout",
     "output_type": "stream",
     "text": [
      "[OSRL-SC]: Avg Time 3108.0 - Std  0.0 - Max 3108.0 - Min 3108.0\n",
      "[Track and Stop]: Avg Time 7571.0 - Std  0.0 - Max 7571.0 - Min 7571.0\n"
     ]
    }
   ],
   "source": [
    "for name in data.keys():\n",
    "    z = [x.T for x in data[name]]\n",
    "    print('[{}]: Avg Time {} - Std  {} - Max {} - Min {}'.format(name, np.mean(z), np.std(z), np.max(z), np.min(z)))"
   ]
  }
 ],
 "metadata": {
  "kernelspec": {
   "display_name": "Python 3",
   "language": "python",
   "name": "python3"
  },
  "language_info": {
   "codemirror_mode": {
    "name": "ipython",
    "version": 3
   },
   "file_extension": ".py",
   "mimetype": "text/x-python",
   "name": "python",
   "nbconvert_exporter": "python",
   "pygments_lexer": "ipython3",
   "version": "3.7.7"
  }
 },
 "nbformat": 4,
 "nbformat_minor": 4
}
